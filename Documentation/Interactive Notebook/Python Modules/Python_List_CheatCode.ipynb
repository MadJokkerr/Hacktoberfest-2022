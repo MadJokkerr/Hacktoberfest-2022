{
  "cells": [
    {
      "cell_type": "markdown",
      "metadata": {
        "id": "0ryqTlAvBq6B"
      },
      "source": [
        "# Python Lists Cheatsheet\n",
        "\n",
        "\n",
        "\n"
      ]
    },
    {
      "cell_type": "markdown",
      "metadata": {
        "id": "Sr-GUJ_YDnIA"
      },
      "source": [
        "### Creating List\n",
        "\n",
        "* Syntax : \n",
        "`l = [1, 2, 3, 4...]`"
      ]
    },
    {
      "cell_type": "markdown",
      "metadata": {
        "id": "fCrgI1KpGeN3"
      },
      "source": [
        "#### Add an element to list\n",
        "\n",
        "* Syntax : `l.append(element)`"
      ]
    },
    {
      "cell_type": "code",
      "execution_count": 10,
      "metadata": {},
      "outputs": [
        {
          "name": "stdout",
          "output_type": "stream",
          "text": [
            "Before Append\n",
            "[3, 5, 2, 4, 7, 5, 0, 9]\n",
            "After Append\n",
            "[3, 5, 2, 4, 7, 5, 0, 9, 6]\n"
          ]
        }
      ],
      "source": [
        "l = [3,5,2,4,7,5,0,9]\n",
        "print(\"Before Append\")\n",
        "print(l)\n",
        "l.append(6)\n",
        "print(\"After Append\")\n",
        "print(l)"
      ]
    },
    {
      "cell_type": "markdown",
      "metadata": {
        "id": "RMXAZ5WpGuTR"
      },
      "source": [
        "#### Remove All the elements from the list\n",
        "* Syntax : `l.clear()`\n",
        "\n"
      ]
    },
    {
      "cell_type": "code",
      "execution_count": 11,
      "metadata": {
        "colab": {
          "base_uri": "https://localhost:8080/"
        },
        "id": "fdz0ykyZIE3V",
        "outputId": "e381b166-6cb8-452e-d0df-75bff52a874c"
      },
      "outputs": [
        {
          "name": "stdout",
          "output_type": "stream",
          "text": [
            "Before Clear\n",
            "[3, 5, 2, 4, 7, 5, 0, 9]\n",
            "After Clear\n",
            "[]\n"
          ]
        }
      ],
      "source": [
        "l = [3,5,2,4,7,5,0,9]\n",
        "print(\"Before Clear\")\n",
        "print(l)\n",
        "l.clear()\n",
        "print(\"After Clear\")\n",
        "print(l)"
      ]
    },
    {
      "cell_type": "markdown",
      "metadata": {
        "id": "W8kCE_Z8IMyX"
      },
      "source": [
        "#### Make Copy of a List\n",
        "* Syntax : `l.copy()`"
      ]
    },
    {
      "cell_type": "code",
      "execution_count": 12,
      "metadata": {
        "colab": {
          "base_uri": "https://localhost:8080/"
        },
        "id": "6iAJIyO3I386",
        "outputId": "89036a33-aa80-4999-8aa4-dacc3f35ec8d"
      },
      "outputs": [
        {
          "name": "stdout",
          "output_type": "stream",
          "text": [
            "Initial List\n",
            "[3, 5, 2, 4, 7, 5, 0, 9]\n",
            "Copied List\n",
            "[3, 5, 2, 4, 7, 5, 0, 9]\n"
          ]
        }
      ],
      "source": [
        "l = [3,5,2,4,7,5,0,9]\n",
        "print(\"Initial List\")\n",
        "print(l)\n",
        "x = l.copy()\n",
        "print(\"Copied List\")\n",
        "print(x)"
      ]
    },
    {
      "cell_type": "markdown",
      "metadata": {
        "id": "uDJMZDZuJCIf"
      },
      "source": [
        "#### Count Number of Elements With Specified Value\n",
        "* Syntax : `l.clear()`"
      ]
    },
    {
      "cell_type": "code",
      "execution_count": 13,
      "metadata": {
        "colab": {
          "base_uri": "https://localhost:8080/"
        },
        "id": "25z01qF9Jh1W",
        "outputId": "a08866ca-a811-4cb8-bc88-305e4fbf3fe1"
      },
      "outputs": [
        {
          "name": "stdout",
          "output_type": "stream",
          "text": [
            "[3, 5, 3, 4, 7, 3, 0, 3]\n",
            "3 appears 4 times in this list\n"
          ]
        }
      ],
      "source": [
        "l = [3,5,3,4,7,3,0,3]\n",
        "x = l.count(3)\n",
        "print(l)\n",
        "print(f\"3 appears {x} times in this list\")"
      ]
    },
    {
      "cell_type": "markdown",
      "metadata": {
        "id": "XLOHfy8bKPny"
      },
      "source": [
        "#### Adding elements of a List (or any iterable) to the end of current list\n",
        "* Syntax:`l.extend(anotherList)`\n"
      ]
    },
    {
      "cell_type": "code",
      "execution_count": 14,
      "metadata": {
        "colab": {
          "base_uri": "https://localhost:8080/"
        },
        "id": "wbIXBm63LBdU",
        "outputId": "42037b21-cb28-42ec-94cf-9afb3f7c2aef"
      },
      "outputs": [
        {
          "name": "stdout",
          "output_type": "stream",
          "text": [
            "Before Extend\n",
            "[3, 5, 3, 4, 7]\n",
            "After Extend\n",
            "[3, 5, 3, 4, 7, 4, 2, 6, 9]\n"
          ]
        }
      ],
      "source": [
        "l = [3,5,3,4,7]\n",
        "x = [4, 2 , 6, 9]\n",
        "print(\"Before Extend\")\n",
        "print(l)\n",
        "l.extend(x)\n",
        "print(\"After Extend\")\n",
        "print(l)"
      ]
    },
    {
      "cell_type": "markdown",
      "metadata": {
        "id": "R5xHmSnELc88"
      },
      "source": [
        "#### Return the index of the first element with the specified value\n",
        "* Syntax:`l.index(element)`"
      ]
    },
    {
      "cell_type": "code",
      "execution_count": 15,
      "metadata": {
        "colab": {
          "base_uri": "https://localhost:8080/"
        },
        "id": "XY80dl8tMJdl",
        "outputId": "6dffb297-a24d-4517-fa74-a6c6cb8b141f"
      },
      "outputs": [
        {
          "name": "stdout",
          "output_type": "stream",
          "text": [
            "[3, 5, 3, 4, 7]\n",
            "5 is at 1 index of this list\n"
          ]
        }
      ],
      "source": [
        "l = [3,5,3,4,7]\n",
        "x = l.index(5)\n",
        "print(l)\n",
        "print(f\"5 is at {x} index of this list\")"
      ]
    },
    {
      "cell_type": "markdown",
      "metadata": {
        "id": "eGCkephWM3w6"
      },
      "source": [
        "#### Add an element at the specified position\n",
        "* Syntax:`l.insert(position, element)`"
      ]
    },
    {
      "cell_type": "code",
      "execution_count": 16,
      "metadata": {
        "colab": {
          "base_uri": "https://localhost:8080/"
        },
        "id": "PN9GUFgbOg11",
        "outputId": "5040cc87-48e4-4442-e4bc-12bbc4429c11"
      },
      "outputs": [
        {
          "name": "stdout",
          "output_type": "stream",
          "text": [
            "Before Insert\n",
            "[3, 5, 3, 4, 7]\n",
            "After Insert\n",
            "[3, 5, 3, 9, 4, 7]\n",
            "[3, 5, 3, 9, 4, 7]\n"
          ]
        }
      ],
      "source": [
        "l = [3,5,3,4,7]\n",
        "print(\"Before Insert\")\n",
        "print(l)\n",
        "l.insert(3, 9)\n",
        "print(\"After Insert\")\n",
        "print(l)"
      ]
    },
    {
      "cell_type": "markdown",
      "metadata": {
        "id": "JS1ZB7Y1Rd6K"
      },
      "source": [
        "#### Remove the element at the specified position\n",
        "* Syntax:`l.pop(position)`"
      ]
    },
    {
      "cell_type": "code",
      "execution_count": 17,
      "metadata": {
        "colab": {
          "base_uri": "https://localhost:8080/"
        },
        "id": "If1N81eeRlsl",
        "outputId": "046d6076-840d-4a02-a0d9-692bf9687f8d"
      },
      "outputs": [
        {
          "name": "stdout",
          "output_type": "stream",
          "text": [
            "Before Pop\n",
            "[3, 5, 3, 4, 7]\n",
            "After Pop\n",
            "[3, 5, 4, 7]\n"
          ]
        }
      ],
      "source": [
        "l = [3,5,3,4,7]\n",
        "print(\"Before Pop\")\n",
        "print(l)\n",
        "l.pop(2)\n",
        "print(\"After Pop\")\n",
        "print(l)"
      ]
    },
    {
      "cell_type": "markdown",
      "metadata": {
        "id": "THdAjcXnSPhq"
      },
      "source": [
        "#### Removes the item with the specified value\n",
        "* Syntax:`l.remove(position)`"
      ]
    },
    {
      "cell_type": "code",
      "execution_count": 18,
      "metadata": {
        "colab": {
          "base_uri": "https://localhost:8080/"
        },
        "id": "irOLKHW_SUZq",
        "outputId": "d82bdb69-6825-479c-ac0f-e08500383438"
      },
      "outputs": [
        {
          "name": "stdout",
          "output_type": "stream",
          "text": [
            "Before Remove\n",
            "[3, 5, 3, 4, 7]\n",
            "After Remove\n",
            "[3, 3, 4, 7]\n"
          ]
        }
      ],
      "source": [
        "l = [3,5,3,4,7]\n",
        "print(\"Before Remove\")\n",
        "print(l)\n",
        "l.remove(5)\n",
        "print(\"After Remove\")\n",
        "print(l)"
      ]
    },
    {
      "cell_type": "markdown",
      "metadata": {
        "id": "dLILR6AGS2W0"
      },
      "source": [
        "#### Reverse the order of the list\n",
        "* Syntax:`l.reverse()`\n"
      ]
    },
    {
      "cell_type": "code",
      "execution_count": 19,
      "metadata": {
        "colab": {
          "base_uri": "https://localhost:8080/"
        },
        "id": "6kJ5yREES6Fn",
        "outputId": "974ebf88-9ba9-4679-98aa-bcdc0b44cb7a"
      },
      "outputs": [
        {
          "name": "stdout",
          "output_type": "stream",
          "text": [
            "Before Reverse\n",
            "[3, 5, 3, 4, 7]\n",
            "After Reverse\n",
            "[7, 4, 3, 5, 3]\n"
          ]
        }
      ],
      "source": [
        "l = [3,5,3,4,7]\n",
        "print(\"Before Reverse\")\n",
        "print(l)\n",
        "l.reverse()\n",
        "print(\"After Reverse\")\n",
        "print(l)"
      ]
    },
    {
      "cell_type": "markdown",
      "metadata": {
        "id": "MNCK-pv4TJo_"
      },
      "source": [
        "#### Sort the List\n",
        "* Syntax:`l.sort()`"
      ]
    },
    {
      "cell_type": "code",
      "execution_count": 20,
      "metadata": {
        "colab": {
          "base_uri": "https://localhost:8080/"
        },
        "id": "7R5IBDvvTNiT",
        "outputId": "305d5607-04e8-4c3a-bf9d-334eacc64795"
      },
      "outputs": [
        {
          "name": "stdout",
          "output_type": "stream",
          "text": [
            "Before Sort\n",
            "[3, 5, 3, 4, 7]\n",
            "After Sort\n",
            "[3, 3, 4, 5, 7]\n"
          ]
        }
      ],
      "source": [
        "l = [3,5,3,4,7]\n",
        "print(\"Before Sort\")\n",
        "print(l)\n",
        "l.sort()\n",
        "print(\"After Sort\")\n",
        "print(l)"
      ]
    }
  ],
  "metadata": {
    "colab": {
      "provenance": []
    },
    "kernelspec": {
      "display_name": "Python 3.10.2 64-bit",
      "language": "python",
      "name": "python3"
    },
    "language_info": {
      "codemirror_mode": {
        "name": "ipython",
        "version": 3
      },
      "file_extension": ".py",
      "mimetype": "text/x-python",
      "name": "python",
      "nbconvert_exporter": "python",
      "pygments_lexer": "ipython3",
      "version": "3.10.2"
    },
    "vscode": {
      "interpreter": {
        "hash": "d21fc14708d40fb48c56d614e7852ecb21c76b8d8bf281ad1d5b7de826272bde"
      }
    }
  },
  "nbformat": 4,
  "nbformat_minor": 0
}
