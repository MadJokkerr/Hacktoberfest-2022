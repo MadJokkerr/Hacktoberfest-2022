{
  "nbformat": 4,
  "nbformat_minor": 0,
  "metadata": {
    "colab": {
      "provenance": []
    },
    "kernelspec": {
      "name": "python3",
      "display_name": "Python 3"
    },
    "language_info": {
      "name": "python"
    }
  },
  "cells": [
    {
      "cell_type": "markdown",
      "source": [
        "# Python Numpy Cheatsheet\n",
        "## What is Numpy ?\n",
        "A libary consisting of multidimensional array objects and a collection of routines for processing those arrays \n",
        "\n",
        "## Why use Numpy ?\n",
        "High performance on mathematical and logical operations on arrays can be \n",
        "\n",
        "\n"
      ],
      "metadata": {
        "id": "0ryqTlAvBq6B"
      }
    },
    {
      "cell_type": "markdown",
      "source": [
        "## Importing Numpy \n"
      ],
      "metadata": {
        "id": "puDoBXs_EgUL"
      }
    },
    {
      "cell_type": "code",
      "execution_count": 84,
      "metadata": {
        "id": "tdFDjQn5Bjcc"
      },
      "outputs": [],
      "source": [
        "import numpy as np "
      ]
    },
    {
      "cell_type": "markdown",
      "source": [
        "## Arrays \n",
        "\n",
        "* The array object in NumPy is called ndarray, it provides a lot of supporting functions that make working with ndarray very easy.\n",
        "\n",
        "* An ndarray is a (usually fixed-size) multidimensional container of items of the same type and size. The number of dimensions and items in an array is defined by its shape , which is a tuple of N non-negative integers that specify the sizes of each dimension."
      ],
      "metadata": {
        "id": "KDM3-WCoFMqT"
      }
    },
    {
      "cell_type": "markdown",
      "source": [
        "### Creating Array\n",
        "\n",
        "* Syntax : \n",
        "`numpy.array(object, dtype=None, *, copy=True, order='K', subok=False, ndmin=0, like=None)`"
      ],
      "metadata": {
        "id": "Sr-GUJ_YDnIA"
      }
    },
    {
      "cell_type": "markdown",
      "source": [
        "#### One Dimensional "
      ],
      "metadata": {
        "id": "M--vb96LE3IA"
      }
    },
    {
      "cell_type": "code",
      "source": [
        "a = np.array([1,2,3])\n",
        "a"
      ],
      "metadata": {
        "colab": {
          "base_uri": "https://localhost:8080/"
        },
        "id": "B_Xkc1WtDvOt",
        "outputId": "64de974c-25d7-43fb-b197-f7161a354b4f"
      },
      "execution_count": 85,
      "outputs": [
        {
          "output_type": "execute_result",
          "data": {
            "text/plain": [
              "array([1, 2, 3])"
            ]
          },
          "metadata": {},
          "execution_count": 85
        }
      ]
    },
    {
      "cell_type": "markdown",
      "source": [
        "#### Two Dimensional "
      ],
      "metadata": {
        "id": "3E3DqGT3E_Sa"
      }
    },
    {
      "cell_type": "code",
      "source": [
        "b = np.array([(1,2,3,4),(7,8,9,10)],dtype=int)\n",
        "b"
      ],
      "metadata": {
        "colab": {
          "base_uri": "https://localhost:8080/"
        },
        "id": "W6hBCR9hFF1K",
        "outputId": "a00323ad-8303-4bb0-e5bb-3d345fff4709"
      },
      "execution_count": 86,
      "outputs": [
        {
          "output_type": "execute_result",
          "data": {
            "text/plain": [
              "array([[ 1,  2,  3,  4],\n",
              "       [ 7,  8,  9, 10]])"
            ]
          },
          "metadata": {},
          "execution_count": 86
        }
      ]
    },
    {
      "cell_type": "markdown",
      "source": [
        "#### Three Dimensional\n",
        "\n"
      ],
      "metadata": {
        "id": "TxhlrPceFARa"
      }
    },
    {
      "cell_type": "code",
      "source": [
        "c = np.array([[(1.5,2,3), (4,5,6)],[(3,2,1), (4,5,6)]], dtype = float)\n",
        "c"
      ],
      "metadata": {
        "colab": {
          "base_uri": "https://localhost:8080/"
        },
        "id": "3MZgVnKGFp5b",
        "outputId": "924f23ae-9307-4fcf-bb24-7cbc28bf455a"
      },
      "execution_count": 87,
      "outputs": [
        {
          "output_type": "execute_result",
          "data": {
            "text/plain": [
              "array([[[1.5, 2. , 3. ],\n",
              "        [4. , 5. , 6. ]],\n",
              "\n",
              "       [[3. , 2. , 1. ],\n",
              "        [4. , 5. , 6. ]]])"
            ]
          },
          "metadata": {},
          "execution_count": 87
        }
      ]
    },
    {
      "cell_type": "markdown",
      "source": [
        "### Initial Placeholder "
      ],
      "metadata": {
        "id": "JeDs5B9eGRdL"
      }
    },
    {
      "cell_type": "markdown",
      "source": [
        "#### Creating a Zero Arrays\n",
        "\n",
        "* Syntax : \n",
        "\n",
        "```py\n",
        "numpy.zeros(shape, dtype=float, order='C', *, like=None)\n",
        "```"
      ],
      "metadata": {
        "id": "fCrgI1KpGeN3"
      }
    },
    {
      "cell_type": "markdown",
      "source": [
        "##### 1D array of length x all zeros \n",
        "`` np.zeros(x)``\n",
        "\n"
      ],
      "metadata": {
        "id": "RMXAZ5WpGuTR"
      }
    },
    {
      "cell_type": "code",
      "source": [
        "np.zeros(3)"
      ],
      "metadata": {
        "colab": {
          "base_uri": "https://localhost:8080/"
        },
        "id": "fdz0ykyZIE3V",
        "outputId": "e381b166-6cb8-452e-d0df-75bff52a874c"
      },
      "execution_count": 10,
      "outputs": [
        {
          "output_type": "execute_result",
          "data": {
            "text/plain": [
              "array([0., 0., 0.])"
            ]
          },
          "metadata": {},
          "execution_count": 10
        }
      ]
    },
    {
      "cell_type": "markdown",
      "source": [
        "##### 2D array of length x all zeros \n",
        "`` np.zeros(2,x))``"
      ],
      "metadata": {
        "id": "W8kCE_Z8IMyX"
      }
    },
    {
      "cell_type": "code",
      "source": [
        "np.zeros((2,3))"
      ],
      "metadata": {
        "colab": {
          "base_uri": "https://localhost:8080/"
        },
        "id": "6iAJIyO3I386",
        "outputId": "89036a33-aa80-4999-8aa4-dacc3f35ec8d"
      },
      "execution_count": 11,
      "outputs": [
        {
          "output_type": "execute_result",
          "data": {
            "text/plain": [
              "array([[0., 0., 0.],\n",
              "       [0., 0., 0.]])"
            ]
          },
          "metadata": {},
          "execution_count": 11
        }
      ]
    },
    {
      "cell_type": "markdown",
      "source": [
        "##### 3D array of length x all zeros \n",
        "`` np.zeros((3,2,x))``"
      ],
      "metadata": {
        "id": "uDJMZDZuJCIf"
      }
    },
    {
      "cell_type": "code",
      "source": [
        "np.zeros((3,2,4))"
      ],
      "metadata": {
        "colab": {
          "base_uri": "https://localhost:8080/"
        },
        "id": "25z01qF9Jh1W",
        "outputId": "a08866ca-a811-4cb8-bc88-305e4fbf3fe1"
      },
      "execution_count": 12,
      "outputs": [
        {
          "output_type": "execute_result",
          "data": {
            "text/plain": [
              "array([[[0., 0., 0., 0.],\n",
              "        [0., 0., 0., 0.]],\n",
              "\n",
              "       [[0., 0., 0., 0.],\n",
              "        [0., 0., 0., 0.]],\n",
              "\n",
              "       [[0., 0., 0., 0.],\n",
              "        [0., 0., 0., 0.]]])"
            ]
          },
          "metadata": {},
          "execution_count": 12
        }
      ]
    },
    {
      "cell_type": "markdown",
      "source": [
        "#### Creating a one Array\n",
        "* Syntax:\n",
        "```py\n",
        "numpy.ones(shape, dtype=None, order='C', *, like=None)\n",
        "```\n"
      ],
      "metadata": {
        "id": "XLOHfy8bKPny"
      }
    },
    {
      "cell_type": "code",
      "source": [
        "np.ones((2,3,4),dtype=int)"
      ],
      "metadata": {
        "colab": {
          "base_uri": "https://localhost:8080/"
        },
        "id": "wbIXBm63LBdU",
        "outputId": "42037b21-cb28-42ec-94cf-9afb3f7c2aef"
      },
      "execution_count": 13,
      "outputs": [
        {
          "output_type": "execute_result",
          "data": {
            "text/plain": [
              "array([[[1, 1, 1, 1],\n",
              "        [1, 1, 1, 1],\n",
              "        [1, 1, 1, 1]],\n",
              "\n",
              "       [[1, 1, 1, 1],\n",
              "        [1, 1, 1, 1],\n",
              "        [1, 1, 1, 1]]])"
            ]
          },
          "metadata": {},
          "execution_count": 13
        }
      ]
    },
    {
      "cell_type": "markdown",
      "source": [
        "#### Creating an array of evenly spaced values (step values)\n",
        "* Syntax:\n",
        "```py\n",
        "numpy.arange([start, ]stop, [step, ]dtype=None, *, like=None) \n",
        "```"
      ],
      "metadata": {
        "id": "R5xHmSnELc88"
      }
    },
    {
      "cell_type": "code",
      "source": [
        "np.arange(10,25,5)"
      ],
      "metadata": {
        "colab": {
          "base_uri": "https://localhost:8080/"
        },
        "id": "XY80dl8tMJdl",
        "outputId": "6dffb297-a24d-4517-fa74-a6c6cb8b141f"
      },
      "execution_count": 14,
      "outputs": [
        {
          "output_type": "execute_result",
          "data": {
            "text/plain": [
              "array([10, 15, 20])"
            ]
          },
          "metadata": {},
          "execution_count": 14
        }
      ]
    },
    {
      "cell_type": "markdown",
      "source": [
        "#### Creating an array with random values\n",
        "```py\n",
        "numpy.random.random(shape,dtype=None,order='C', *, like=None) \n",
        "```"
      ],
      "metadata": {
        "id": "eGCkephWM3w6"
      }
    },
    {
      "cell_type": "code",
      "source": [
        "np.random.random((2,2))"
      ],
      "metadata": {
        "colab": {
          "base_uri": "https://localhost:8080/"
        },
        "id": "PN9GUFgbOg11",
        "outputId": "5040cc87-48e4-4442-e4bc-12bbc4429c11"
      },
      "execution_count": 18,
      "outputs": [
        {
          "output_type": "execute_result",
          "data": {
            "text/plain": [
              "array([[0.60501953, 0.6558145 ],\n",
              "       [0.58046838, 0.53524572]])"
            ]
          },
          "metadata": {},
          "execution_count": 18
        }
      ]
    },
    {
      "cell_type": "markdown",
      "source": [
        "## Array Mathematics \n"
      ],
      "metadata": {
        "id": "Xan9RclWQMfg"
      }
    },
    {
      "cell_type": "markdown",
      "source": [
        "### Arithmetic Operations"
      ],
      "metadata": {
        "id": "YOalFMDBUDLL"
      }
    },
    {
      "cell_type": "markdown",
      "source": [
        "#### Substractions \n"
      ],
      "metadata": {
        "id": "JS1ZB7Y1Rd6K"
      }
    },
    {
      "cell_type": "code",
      "source": [
        "np.subtract([1,2,3],np.ones(3)) # a - np.ones(3)\n"
      ],
      "metadata": {
        "colab": {
          "base_uri": "https://localhost:8080/"
        },
        "id": "If1N81eeRlsl",
        "outputId": "046d6076-840d-4a02-a0d9-692bf9687f8d"
      },
      "execution_count": 30,
      "outputs": [
        {
          "output_type": "execute_result",
          "data": {
            "text/plain": [
              "array([0., 1., 2.])"
            ]
          },
          "metadata": {},
          "execution_count": 30
        }
      ]
    },
    {
      "cell_type": "markdown",
      "source": [
        "#### Addition\n"
      ],
      "metadata": {
        "id": "THdAjcXnSPhq"
      }
    },
    {
      "cell_type": "code",
      "source": [
        "np.add([1,2,3],np.ones(3))"
      ],
      "metadata": {
        "colab": {
          "base_uri": "https://localhost:8080/"
        },
        "id": "irOLKHW_SUZq",
        "outputId": "d82bdb69-6825-479c-ac0f-e08500383438"
      },
      "execution_count": 31,
      "outputs": [
        {
          "output_type": "execute_result",
          "data": {
            "text/plain": [
              "array([2., 3., 4.])"
            ]
          },
          "metadata": {},
          "execution_count": 31
        }
      ]
    },
    {
      "cell_type": "markdown",
      "source": [
        "#### Division\n"
      ],
      "metadata": {
        "id": "dLILR6AGS2W0"
      }
    },
    {
      "cell_type": "code",
      "source": [
        "np.divide([4,8,10],[2,4,5])"
      ],
      "metadata": {
        "colab": {
          "base_uri": "https://localhost:8080/"
        },
        "id": "6kJ5yREES6Fn",
        "outputId": "974ebf88-9ba9-4679-98aa-bcdc0b44cb7a"
      },
      "execution_count": 33,
      "outputs": [
        {
          "output_type": "execute_result",
          "data": {
            "text/plain": [
              "array([2., 2., 2.])"
            ]
          },
          "metadata": {},
          "execution_count": 33
        }
      ]
    },
    {
      "cell_type": "markdown",
      "source": [
        "#### Multiplication\n"
      ],
      "metadata": {
        "id": "MNCK-pv4TJo_"
      }
    },
    {
      "cell_type": "code",
      "source": [
        "np.multiply([ 1.5, 4. , 0. ],[ 4. , 10. , 18. ])"
      ],
      "metadata": {
        "colab": {
          "base_uri": "https://localhost:8080/"
        },
        "id": "7R5IBDvvTNiT",
        "outputId": "305d5607-04e8-4c3a-bf9d-334eacc64795"
      },
      "execution_count": 35,
      "outputs": [
        {
          "output_type": "execute_result",
          "data": {
            "text/plain": [
              "array([ 6., 40.,  0.])"
            ]
          },
          "metadata": {},
          "execution_count": 35
        }
      ]
    },
    {
      "cell_type": "markdown",
      "source": [
        "#### Dot product"
      ],
      "metadata": {
        "id": "KaY2f4ySTkoO"
      }
    },
    {
      "cell_type": "code",
      "source": [
        "a.dot([4,5,6])"
      ],
      "metadata": {
        "colab": {
          "base_uri": "https://localhost:8080/"
        },
        "id": "7f1buvjBTmx-",
        "outputId": "01112ceb-d913-4b5e-fe3b-b01f4aa31739"
      },
      "execution_count": 37,
      "outputs": [
        {
          "output_type": "execute_result",
          "data": {
            "text/plain": [
              "32"
            ]
          },
          "metadata": {},
          "execution_count": 37
        }
      ]
    },
    {
      "cell_type": "markdown",
      "source": [
        "### Aggregate Functions"
      ],
      "metadata": {
        "id": "7l5yqDBiUfnN"
      }
    },
    {
      "cell_type": "markdown",
      "source": [
        "#### Sum"
      ],
      "metadata": {
        "id": "0AHX3YU1Uzb9"
      }
    },
    {
      "cell_type": "code",
      "source": [
        "a.sum()"
      ],
      "metadata": {
        "colab": {
          "base_uri": "https://localhost:8080/"
        },
        "id": "Gcmcb4K4U09G",
        "outputId": "026eacbd-632b-4820-c465-d0c6cb5efa44"
      },
      "execution_count": 38,
      "outputs": [
        {
          "output_type": "execute_result",
          "data": {
            "text/plain": [
              "6"
            ]
          },
          "metadata": {},
          "execution_count": 38
        }
      ]
    },
    {
      "cell_type": "markdown",
      "source": [
        "#### minimum value"
      ],
      "metadata": {
        "id": "8PO2KM3pU5Cj"
      }
    },
    {
      "cell_type": "code",
      "source": [
        "a.min()"
      ],
      "metadata": {
        "colab": {
          "base_uri": "https://localhost:8080/"
        },
        "id": "X1Og4ds8U9QU",
        "outputId": "a6edf310-fe66-4cb3-e0b5-1c93b4485008"
      },
      "execution_count": 39,
      "outputs": [
        {
          "output_type": "execute_result",
          "data": {
            "text/plain": [
              "1"
            ]
          },
          "metadata": {},
          "execution_count": 39
        }
      ]
    },
    {
      "cell_type": "markdown",
      "source": [
        "#### Mean "
      ],
      "metadata": {
        "id": "AWE_qmzoVMRh"
      }
    },
    {
      "cell_type": "code",
      "source": [
        "a.mean()"
      ],
      "metadata": {
        "colab": {
          "base_uri": "https://localhost:8080/"
        },
        "id": "Y9Xz3FTJVStx",
        "outputId": "23a801b3-3a57-44bc-fa3f-183672674863"
      },
      "execution_count": 40,
      "outputs": [
        {
          "output_type": "execute_result",
          "data": {
            "text/plain": [
              "2.0"
            ]
          },
          "metadata": {},
          "execution_count": 40
        }
      ]
    },
    {
      "cell_type": "markdown",
      "source": [
        "#### Maximum value of an array"
      ],
      "metadata": {
        "id": "ALjbq6UoVhsG"
      }
    },
    {
      "cell_type": "code",
      "source": [
        "b.argmax()"
      ],
      "metadata": {
        "colab": {
          "base_uri": "https://localhost:8080/"
        },
        "id": "E7WZ4OMKWUl5",
        "outputId": "6881b8fc-f0d8-4751-cf7f-321a460934c0"
      },
      "execution_count": 54,
      "outputs": [
        {
          "output_type": "execute_result",
          "data": {
            "text/plain": [
              "7"
            ]
          },
          "metadata": {},
          "execution_count": 54
        }
      ]
    },
    {
      "cell_type": "markdown",
      "source": [
        "#### Median"
      ],
      "metadata": {
        "id": "_q4U9nDRVV2C"
      }
    },
    {
      "cell_type": "code",
      "source": [
        "np.median(b)"
      ],
      "metadata": {
        "colab": {
          "base_uri": "https://localhost:8080/"
        },
        "id": "G6EVQKLQVXTy",
        "outputId": "b1cf6e71-8418-4eaa-fdc2-b1580ff46cc5"
      },
      "execution_count": 42,
      "outputs": [
        {
          "output_type": "execute_result",
          "data": {
            "text/plain": [
              "5.5"
            ]
          },
          "metadata": {},
          "execution_count": 42
        }
      ]
    },
    {
      "cell_type": "markdown",
      "source": [
        "## Copying Arrays\n",
        "\n"
      ],
      "metadata": {
        "id": "i-eP3irtMveA"
      }
    },
    {
      "cell_type": "code",
      "source": [
        "o = a.view() #Create a view of the array with the same data\n",
        "o"
      ],
      "metadata": {
        "colab": {
          "base_uri": "https://localhost:8080/"
        },
        "id": "QCMm6oTIM6Fr",
        "outputId": "5babdde6-235d-43ba-ea5c-9d736f7688e5"
      },
      "execution_count": 131,
      "outputs": [
        {
          "output_type": "execute_result",
          "data": {
            "text/plain": [
              "array([1, 2, 3])"
            ]
          },
          "metadata": {},
          "execution_count": 131
        }
      ]
    },
    {
      "cell_type": "code",
      "source": [
        "np.copy(b) #Create a copy of the array\n"
      ],
      "metadata": {
        "colab": {
          "base_uri": "https://localhost:8080/"
        },
        "id": "xRC0LBTpNGy0",
        "outputId": "d89e2ca0-1156-4635-dec6-1c8cca5b59ef"
      },
      "execution_count": 133,
      "outputs": [
        {
          "output_type": "execute_result",
          "data": {
            "text/plain": [
              "array([[ 1,  2,  3,  4],\n",
              "       [ 7,  8,  9, 10]])"
            ]
          },
          "metadata": {},
          "execution_count": 133
        }
      ]
    },
    {
      "cell_type": "markdown",
      "source": [
        "## Array Manipulation \n"
      ],
      "metadata": {
        "id": "j6iO488kXPWh"
      }
    },
    {
      "cell_type": "markdown",
      "source": [
        "### Transposing Array"
      ],
      "metadata": {
        "id": "uf1JRkR5XVer"
      }
    },
    {
      "cell_type": "code",
      "source": [
        "i = np.transpose(b)\n",
        "i"
      ],
      "metadata": {
        "colab": {
          "base_uri": "https://localhost:8080/"
        },
        "id": "um37Qqs8XbAW",
        "outputId": "e3ad9d31-4bfa-492f-c9fd-e8c0df8a236e"
      },
      "execution_count": 68,
      "outputs": [
        {
          "output_type": "execute_result",
          "data": {
            "text/plain": [
              "array([[ 1,  7],\n",
              "       [ 2,  8],\n",
              "       [ 3,  9],\n",
              "       [ 4, 10]])"
            ]
          },
          "metadata": {},
          "execution_count": 68
        }
      ]
    },
    {
      "cell_type": "markdown",
      "source": [
        "### Changing Array Shape\n"
      ],
      "metadata": {
        "id": "VchfJmUZYFUJ"
      }
    },
    {
      "cell_type": "code",
      "source": [
        "h = b.copy()\n",
        "h.ravel() # flatten the array"
      ],
      "metadata": {
        "colab": {
          "base_uri": "https://localhost:8080/"
        },
        "id": "ViihMtn6YMv5",
        "outputId": "1d824911-80d6-4813-fb63-278acc3008cd"
      },
      "execution_count": 91,
      "outputs": [
        {
          "output_type": "execute_result",
          "data": {
            "text/plain": [
              "array([ 1,  2,  3,  4,  7,  8,  9, 10])"
            ]
          },
          "metadata": {},
          "execution_count": 91
        }
      ]
    },
    {
      "cell_type": "code",
      "source": [
        "m = c.copy()\n",
        "m.reshape(3,-2) #Reshape, but don’t change data"
      ],
      "metadata": {
        "colab": {
          "base_uri": "https://localhost:8080/"
        },
        "id": "0W6sIyMPYoJC",
        "outputId": "f54e9cd2-23cb-45de-f6a3-fa631d17521b"
      },
      "execution_count": 83,
      "outputs": [
        {
          "output_type": "execute_result",
          "data": {
            "text/plain": [
              "array([[1.5, 2. , 3. , 4. ],\n",
              "       [5. , 6. , 3. , 2. ],\n",
              "       [1. , 4. , 5. , 6. ]])"
            ]
          },
          "metadata": {},
          "execution_count": 83
        }
      ]
    },
    {
      "cell_type": "markdown",
      "source": [
        "### Adding/Removing Elements\n"
      ],
      "metadata": {
        "id": "tIPGRGfE_8uM"
      }
    },
    {
      "cell_type": "code",
      "source": [
        "m.resize((2,6)) #Return a new array with shape (2,6)\n",
        "m"
      ],
      "metadata": {
        "colab": {
          "base_uri": "https://localhost:8080/"
        },
        "id": "-cGErgpWADPH",
        "outputId": "8cb8e808-8430-4a97-83ce-aabd27bc3688"
      },
      "execution_count": 90,
      "outputs": [
        {
          "output_type": "execute_result",
          "data": {
            "text/plain": [
              "array([[1.5, 2. , 3. , 4. , 5. , 6. ],\n",
              "       [3. , 2. , 1. , 4. , 5. , 6. ]])"
            ]
          },
          "metadata": {},
          "execution_count": 90
        }
      ]
    },
    {
      "cell_type": "code",
      "source": [
        "x = np.append(h,m) #Append items to an array\n",
        "x"
      ],
      "metadata": {
        "colab": {
          "base_uri": "https://localhost:8080/"
        },
        "id": "4Cuhp20mAx1E",
        "outputId": "c05bc68d-15de-4078-f866-b07e28195b0e"
      },
      "execution_count": 106,
      "outputs": [
        {
          "output_type": "execute_result",
          "data": {
            "text/plain": [
              "array([ 1. ,  2. ,  3. ,  4. ,  7. ,  8. ,  9. , 10. ,  1.5,  2. ,  3. ,\n",
              "        4. ,  5. ,  6. ,  3. ,  2. ,  1. ,  4. ,  5. ,  6. ])"
            ]
          },
          "metadata": {},
          "execution_count": 106
        }
      ]
    },
    {
      "cell_type": "code",
      "source": [
        "np.insert(h,1,5) # Insert items in a array "
      ],
      "metadata": {
        "colab": {
          "base_uri": "https://localhost:8080/"
        },
        "id": "-4RGfpDqBBSm",
        "outputId": "e35d99d8-bb5f-4e8a-e228-9ccb084cccd3"
      },
      "execution_count": 102,
      "outputs": [
        {
          "output_type": "execute_result",
          "data": {
            "text/plain": [
              "array([ 1,  5,  2,  3,  4,  7,  8,  9, 10])"
            ]
          },
          "metadata": {},
          "execution_count": 102
        }
      ]
    },
    {
      "cell_type": "code",
      "source": [
        "np.delete(a,[1]) # Delete items from an array"
      ],
      "metadata": {
        "id": "LQ0lDVe1B_xO"
      },
      "execution_count": null,
      "outputs": []
    },
    {
      "cell_type": "markdown",
      "source": [
        "### Combining Arrays \n"
      ],
      "metadata": {
        "id": "I8CJEz7PCOL2"
      }
    },
    {
      "cell_type": "code",
      "source": [
        "y =np.concatenate((a,np.ones(2)),axis=0) #Concatenate arrays \n",
        "y"
      ],
      "metadata": {
        "colab": {
          "base_uri": "https://localhost:8080/"
        },
        "id": "wNE6-XfXCYHz",
        "outputId": "bae7be35-31bf-4745-8ad4-bde649dfd5b7"
      },
      "execution_count": 109,
      "outputs": [
        {
          "output_type": "execute_result",
          "data": {
            "text/plain": [
              "array([1., 2., 3., 1., 1.])"
            ]
          },
          "metadata": {},
          "execution_count": 109
        }
      ]
    },
    {
      "cell_type": "code",
      "source": [
        "np.vstack((a,np.random.random(3))) #Stack arrays vertically (row-wise)"
      ],
      "metadata": {
        "colab": {
          "base_uri": "https://localhost:8080/"
        },
        "id": "T4V3LehVIVrI",
        "outputId": "52309502-d2df-4526-e612-1fbe093a5604"
      },
      "execution_count": 115,
      "outputs": [
        {
          "output_type": "execute_result",
          "data": {
            "text/plain": [
              "array([[1.        , 2.        , 3.        ],\n",
              "       [0.83997178, 0.92391403, 0.20233075]])"
            ]
          },
          "metadata": {},
          "execution_count": 115
        }
      ]
    },
    {
      "cell_type": "code",
      "source": [
        "np.r_[y,x] #Stack arrays vertically (row-wise)"
      ],
      "metadata": {
        "colab": {
          "base_uri": "https://localhost:8080/"
        },
        "id": "tul6F7PkCmd-",
        "outputId": "2a916270-bd7a-4f68-a1f1-5025a543f099"
      },
      "execution_count": 110,
      "outputs": [
        {
          "output_type": "execute_result",
          "data": {
            "text/plain": [
              "array([ 1. ,  2. ,  3. ,  1. ,  1. ,  1. ,  2. ,  3. ,  4. ,  7. ,  8. ,\n",
              "        9. , 10. ,  1.5,  2. ,  3. ,  4. ,  5. ,  6. ,  3. ,  2. ,  1. ,\n",
              "        4. ,  5. ,  6. ])"
            ]
          },
          "metadata": {},
          "execution_count": 110
        }
      ]
    },
    {
      "cell_type": "code",
      "source": [
        "np.hstack((a,np.random.random(3))) #Stack arrays horizontally (column-wise)"
      ],
      "metadata": {
        "colab": {
          "base_uri": "https://localhost:8080/"
        },
        "id": "1Ka64fBdIygs",
        "outputId": "b83c8474-2858-4f47-da30-5412757738c9"
      },
      "execution_count": 116,
      "outputs": [
        {
          "output_type": "execute_result",
          "data": {
            "text/plain": [
              "array([1.        , 2.        , 3.        , 0.06551984, 0.14564732,\n",
              "       0.68166866])"
            ]
          },
          "metadata": {},
          "execution_count": 116
        }
      ]
    },
    {
      "cell_type": "code",
      "source": [
        "np.column_stack((a,np.random.random(3))) #Create stacked column-wise arrays "
      ],
      "metadata": {
        "colab": {
          "base_uri": "https://localhost:8080/"
        },
        "id": "Bc1R5rrtKnnv",
        "outputId": "be0e02df-20e0-41eb-ed3c-80f00a73e153"
      },
      "execution_count": 117,
      "outputs": [
        {
          "output_type": "execute_result",
          "data": {
            "text/plain": [
              "array([[1.        , 0.94471738],\n",
              "       [2.        , 0.36652563],\n",
              "       [3.        , 0.82352155]])"
            ]
          },
          "metadata": {},
          "execution_count": 117
        }
      ]
    },
    {
      "cell_type": "markdown",
      "source": [
        "### Splitting Arrays"
      ],
      "metadata": {
        "id": "qfettkJtLYgG"
      }
    },
    {
      "cell_type": "code",
      "source": [
        "np.hsplit(x,10) #Split the array horizontally into 10 equal parts"
      ],
      "metadata": {
        "colab": {
          "base_uri": "https://localhost:8080/"
        },
        "id": "-F3lUYv2Lb9c",
        "outputId": "91e5f5fd-bdf3-41c9-ac91-9e687f7db549"
      },
      "execution_count": 127,
      "outputs": [
        {
          "output_type": "execute_result",
          "data": {
            "text/plain": [
              "[array([1., 2.]),\n",
              " array([3., 4.]),\n",
              " array([7., 8.]),\n",
              " array([ 9., 10.]),\n",
              " array([1.5, 2. ]),\n",
              " array([3., 4.]),\n",
              " array([5., 6.]),\n",
              " array([3., 2.]),\n",
              " array([1., 4.]),\n",
              " array([5., 6.])]"
            ]
          },
          "metadata": {},
          "execution_count": 127
        }
      ]
    },
    {
      "cell_type": "code",
      "source": [
        "np.vsplit(c,2) # split the array vertically into 2 equal parts"
      ],
      "metadata": {
        "colab": {
          "base_uri": "https://localhost:8080/"
        },
        "id": "Wn6RoHPHMRtS",
        "outputId": "93f95f40-c93c-4dbe-eebb-03a42f997f51"
      },
      "execution_count": 130,
      "outputs": [
        {
          "output_type": "execute_result",
          "data": {
            "text/plain": [
              "[array([[[1.5, 2. , 3. ],\n",
              "         [4. , 5. , 6. ]]]), array([[[3., 2., 1.],\n",
              "         [4., 5., 6.]]])]"
            ]
          },
          "metadata": {},
          "execution_count": 130
        }
      ]
    }
  ]
}